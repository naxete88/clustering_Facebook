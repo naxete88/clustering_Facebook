{
 "cells": [
  {
   "cell_type": "markdown",
   "id": "6df5e095",
   "metadata": {},
   "source": [
    "# Clustering Facebook"
   ]
  },
  {
   "cell_type": "code",
   "execution_count": 1,
   "id": "676c340d",
   "metadata": {},
   "outputs": [],
   "source": [
    "import pandas as pd\n",
    "import matplotlib.pyplot as plt\n",
    "import numpy as np\n",
    "import scipy.cluster.hierarchy as sch\n",
    "import plotly.express as px\n",
    "from sklearn.cluster import KMeans, AgglomerativeClustering\n",
    "from sklearn.metrics import silhouette_score\n",
    "from sklearn.preprocessing import StandardScaler\n",
    "from sklearn.metrics import silhouette_score\n",
    "from sklearn.decomposition import PCA\n",
    "from scipy.cluster.hierarchy import dendrogram, linkage, fcluster\n",
    "from kneed import KneeLocator"
   ]
  },
  {
   "cell_type": "code",
   "execution_count": 2,
   "id": "52b55a97",
   "metadata": {},
   "outputs": [
    {
     "data": {
      "text/html": [
       "<div>\n",
       "<style scoped>\n",
       "    .dataframe tbody tr th:only-of-type {\n",
       "        vertical-align: middle;\n",
       "    }\n",
       "\n",
       "    .dataframe tbody tr th {\n",
       "        vertical-align: top;\n",
       "    }\n",
       "\n",
       "    .dataframe thead th {\n",
       "        text-align: right;\n",
       "    }\n",
       "</style>\n",
       "<table border=\"1\" class=\"dataframe\">\n",
       "  <thead>\n",
       "    <tr style=\"text-align: right;\">\n",
       "      <th></th>\n",
       "      <th>status_id</th>\n",
       "      <th>status_type</th>\n",
       "      <th>status_published</th>\n",
       "      <th>num_reactions</th>\n",
       "      <th>num_comments</th>\n",
       "      <th>num_shares</th>\n",
       "      <th>num_likes</th>\n",
       "      <th>num_loves</th>\n",
       "      <th>num_wows</th>\n",
       "      <th>num_hahas</th>\n",
       "      <th>num_sads</th>\n",
       "      <th>num_angrys</th>\n",
       "      <th>Column1</th>\n",
       "      <th>Column2</th>\n",
       "      <th>Column3</th>\n",
       "      <th>Column4</th>\n",
       "    </tr>\n",
       "  </thead>\n",
       "  <tbody>\n",
       "    <tr>\n",
       "      <th>0</th>\n",
       "      <td>246675545449582_1649696485147474</td>\n",
       "      <td>video</td>\n",
       "      <td>4/22/2018 6:00</td>\n",
       "      <td>529</td>\n",
       "      <td>512</td>\n",
       "      <td>262</td>\n",
       "      <td>432</td>\n",
       "      <td>92</td>\n",
       "      <td>3</td>\n",
       "      <td>1</td>\n",
       "      <td>1</td>\n",
       "      <td>0</td>\n",
       "      <td>NaN</td>\n",
       "      <td>NaN</td>\n",
       "      <td>NaN</td>\n",
       "      <td>NaN</td>\n",
       "    </tr>\n",
       "    <tr>\n",
       "      <th>1</th>\n",
       "      <td>246675545449582_1649426988507757</td>\n",
       "      <td>photo</td>\n",
       "      <td>4/21/2018 22:45</td>\n",
       "      <td>150</td>\n",
       "      <td>0</td>\n",
       "      <td>0</td>\n",
       "      <td>150</td>\n",
       "      <td>0</td>\n",
       "      <td>0</td>\n",
       "      <td>0</td>\n",
       "      <td>0</td>\n",
       "      <td>0</td>\n",
       "      <td>NaN</td>\n",
       "      <td>NaN</td>\n",
       "      <td>NaN</td>\n",
       "      <td>NaN</td>\n",
       "    </tr>\n",
       "    <tr>\n",
       "      <th>2</th>\n",
       "      <td>246675545449582_1648730588577397</td>\n",
       "      <td>video</td>\n",
       "      <td>4/21/2018 6:17</td>\n",
       "      <td>227</td>\n",
       "      <td>236</td>\n",
       "      <td>57</td>\n",
       "      <td>204</td>\n",
       "      <td>21</td>\n",
       "      <td>1</td>\n",
       "      <td>1</td>\n",
       "      <td>0</td>\n",
       "      <td>0</td>\n",
       "      <td>NaN</td>\n",
       "      <td>NaN</td>\n",
       "      <td>NaN</td>\n",
       "      <td>NaN</td>\n",
       "    </tr>\n",
       "    <tr>\n",
       "      <th>3</th>\n",
       "      <td>246675545449582_1648576705259452</td>\n",
       "      <td>photo</td>\n",
       "      <td>4/21/2018 2:29</td>\n",
       "      <td>111</td>\n",
       "      <td>0</td>\n",
       "      <td>0</td>\n",
       "      <td>111</td>\n",
       "      <td>0</td>\n",
       "      <td>0</td>\n",
       "      <td>0</td>\n",
       "      <td>0</td>\n",
       "      <td>0</td>\n",
       "      <td>NaN</td>\n",
       "      <td>NaN</td>\n",
       "      <td>NaN</td>\n",
       "      <td>NaN</td>\n",
       "    </tr>\n",
       "    <tr>\n",
       "      <th>4</th>\n",
       "      <td>246675545449582_1645700502213739</td>\n",
       "      <td>photo</td>\n",
       "      <td>4/18/2018 3:22</td>\n",
       "      <td>213</td>\n",
       "      <td>0</td>\n",
       "      <td>0</td>\n",
       "      <td>204</td>\n",
       "      <td>9</td>\n",
       "      <td>0</td>\n",
       "      <td>0</td>\n",
       "      <td>0</td>\n",
       "      <td>0</td>\n",
       "      <td>NaN</td>\n",
       "      <td>NaN</td>\n",
       "      <td>NaN</td>\n",
       "      <td>NaN</td>\n",
       "    </tr>\n",
       "  </tbody>\n",
       "</table>\n",
       "</div>"
      ],
      "text/plain": [
       "                          status_id status_type status_published  \\\n",
       "0  246675545449582_1649696485147474       video   4/22/2018 6:00   \n",
       "1  246675545449582_1649426988507757       photo  4/21/2018 22:45   \n",
       "2  246675545449582_1648730588577397       video   4/21/2018 6:17   \n",
       "3  246675545449582_1648576705259452       photo   4/21/2018 2:29   \n",
       "4  246675545449582_1645700502213739       photo   4/18/2018 3:22   \n",
       "\n",
       "   num_reactions  num_comments  num_shares  num_likes  num_loves  num_wows  \\\n",
       "0            529           512         262        432         92         3   \n",
       "1            150             0           0        150          0         0   \n",
       "2            227           236          57        204         21         1   \n",
       "3            111             0           0        111          0         0   \n",
       "4            213             0           0        204          9         0   \n",
       "\n",
       "   num_hahas  num_sads  num_angrys  Column1  Column2  Column3  Column4  \n",
       "0          1         1           0      NaN      NaN      NaN      NaN  \n",
       "1          0         0           0      NaN      NaN      NaN      NaN  \n",
       "2          1         0           0      NaN      NaN      NaN      NaN  \n",
       "3          0         0           0      NaN      NaN      NaN      NaN  \n",
       "4          0         0           0      NaN      NaN      NaN      NaN  "
      ]
     },
     "execution_count": 2,
     "metadata": {},
     "output_type": "execute_result"
    }
   ],
   "source": [
    "# importo la base de datos\n",
    "# importing database\n",
    "df = pd.read_csv(\"C:/publicacions_facebook_thailandia.csv\")\n",
    "df.head(5)"
   ]
  },
  {
   "cell_type": "code",
   "execution_count": 3,
   "id": "3ca0b697",
   "metadata": {},
   "outputs": [
    {
     "data": {
      "text/plain": [
       "(7050, 16)"
      ]
     },
     "execution_count": 3,
     "metadata": {},
     "output_type": "execute_result"
    }
   ],
   "source": [
    "# tamaño 7050 registros y 16 columnas\n",
    "# size 7050 records and 16 columns\n",
    "df.shape"
   ]
  },
  {
   "cell_type": "code",
   "execution_count": 4,
   "id": "5c67bdd5",
   "metadata": {},
   "outputs": [
    {
     "name": "stdout",
     "output_type": "stream",
     "text": [
      "<class 'pandas.core.frame.DataFrame'>\n",
      "RangeIndex: 7050 entries, 0 to 7049\n",
      "Data columns (total 16 columns):\n",
      " #   Column            Non-Null Count  Dtype  \n",
      "---  ------            --------------  -----  \n",
      " 0   status_id         7050 non-null   object \n",
      " 1   status_type       7050 non-null   object \n",
      " 2   status_published  7050 non-null   object \n",
      " 3   num_reactions     7050 non-null   int64  \n",
      " 4   num_comments      7050 non-null   int64  \n",
      " 5   num_shares        7050 non-null   int64  \n",
      " 6   num_likes         7050 non-null   int64  \n",
      " 7   num_loves         7050 non-null   int64  \n",
      " 8   num_wows          7050 non-null   int64  \n",
      " 9   num_hahas         7050 non-null   int64  \n",
      " 10  num_sads          7050 non-null   int64  \n",
      " 11  num_angrys        7050 non-null   int64  \n",
      " 12  Column1           0 non-null      float64\n",
      " 13  Column2           0 non-null      float64\n",
      " 14  Column3           0 non-null      float64\n",
      " 15  Column4           0 non-null      float64\n",
      "dtypes: float64(4), int64(9), object(3)\n",
      "memory usage: 881.4+ KB\n"
     ]
    }
   ],
   "source": [
    "df.info()"
   ]
  },
  {
   "cell_type": "code",
   "execution_count": 5,
   "id": "982d350b",
   "metadata": {},
   "outputs": [
    {
     "data": {
      "text/html": [
       "<div>\n",
       "<style scoped>\n",
       "    .dataframe tbody tr th:only-of-type {\n",
       "        vertical-align: middle;\n",
       "    }\n",
       "\n",
       "    .dataframe tbody tr th {\n",
       "        vertical-align: top;\n",
       "    }\n",
       "\n",
       "    .dataframe thead th {\n",
       "        text-align: right;\n",
       "    }\n",
       "</style>\n",
       "<table border=\"1\" class=\"dataframe\">\n",
       "  <thead>\n",
       "    <tr style=\"text-align: right;\">\n",
       "      <th></th>\n",
       "      <th>status_type</th>\n",
       "      <th>num_reactions</th>\n",
       "      <th>num_comments</th>\n",
       "      <th>num_shares</th>\n",
       "      <th>num_likes</th>\n",
       "      <th>num_loves</th>\n",
       "      <th>num_wows</th>\n",
       "      <th>num_hahas</th>\n",
       "      <th>num_sads</th>\n",
       "      <th>num_angrys</th>\n",
       "    </tr>\n",
       "  </thead>\n",
       "  <tbody>\n",
       "    <tr>\n",
       "      <th>0</th>\n",
       "      <td>video</td>\n",
       "      <td>529</td>\n",
       "      <td>512</td>\n",
       "      <td>262</td>\n",
       "      <td>432</td>\n",
       "      <td>92</td>\n",
       "      <td>3</td>\n",
       "      <td>1</td>\n",
       "      <td>1</td>\n",
       "      <td>0</td>\n",
       "    </tr>\n",
       "    <tr>\n",
       "      <th>1</th>\n",
       "      <td>photo</td>\n",
       "      <td>150</td>\n",
       "      <td>0</td>\n",
       "      <td>0</td>\n",
       "      <td>150</td>\n",
       "      <td>0</td>\n",
       "      <td>0</td>\n",
       "      <td>0</td>\n",
       "      <td>0</td>\n",
       "      <td>0</td>\n",
       "    </tr>\n",
       "    <tr>\n",
       "      <th>2</th>\n",
       "      <td>video</td>\n",
       "      <td>227</td>\n",
       "      <td>236</td>\n",
       "      <td>57</td>\n",
       "      <td>204</td>\n",
       "      <td>21</td>\n",
       "      <td>1</td>\n",
       "      <td>1</td>\n",
       "      <td>0</td>\n",
       "      <td>0</td>\n",
       "    </tr>\n",
       "    <tr>\n",
       "      <th>3</th>\n",
       "      <td>photo</td>\n",
       "      <td>111</td>\n",
       "      <td>0</td>\n",
       "      <td>0</td>\n",
       "      <td>111</td>\n",
       "      <td>0</td>\n",
       "      <td>0</td>\n",
       "      <td>0</td>\n",
       "      <td>0</td>\n",
       "      <td>0</td>\n",
       "    </tr>\n",
       "    <tr>\n",
       "      <th>4</th>\n",
       "      <td>photo</td>\n",
       "      <td>213</td>\n",
       "      <td>0</td>\n",
       "      <td>0</td>\n",
       "      <td>204</td>\n",
       "      <td>9</td>\n",
       "      <td>0</td>\n",
       "      <td>0</td>\n",
       "      <td>0</td>\n",
       "      <td>0</td>\n",
       "    </tr>\n",
       "  </tbody>\n",
       "</table>\n",
       "</div>"
      ],
      "text/plain": [
       "  status_type  num_reactions  num_comments  num_shares  num_likes  num_loves  \\\n",
       "0       video            529           512         262        432         92   \n",
       "1       photo            150             0           0        150          0   \n",
       "2       video            227           236          57        204         21   \n",
       "3       photo            111             0           0        111          0   \n",
       "4       photo            213             0           0        204          9   \n",
       "\n",
       "   num_wows  num_hahas  num_sads  num_angrys  \n",
       "0         3          1         1           0  \n",
       "1         0          0         0           0  \n",
       "2         1          1         0           0  \n",
       "3         0          0         0           0  \n",
       "4         0          0         0           0  "
      ]
     },
     "execution_count": 5,
     "metadata": {},
     "output_type": "execute_result"
    }
   ],
   "source": [
    "# elimino las columnas 1,2,3,4 porque tienen todos los elementos nulos y otras columnas no importantes.\n",
    "# deliting columns 1,2,3,4 because have all null elements and other non important columns.\n",
    "df1 = df.drop(['Column1','Column2','Column3','Column4','status_id','status_published'], axis = 1)\n",
    "df1.head()"
   ]
  },
  {
   "cell_type": "code",
   "execution_count": 6,
   "id": "5bd72308",
   "metadata": {},
   "outputs": [
    {
     "data": {
      "text/plain": [
       "(7050, 10)"
      ]
     },
     "execution_count": 6,
     "metadata": {},
     "output_type": "execute_result"
    }
   ],
   "source": [
    "df1.shape"
   ]
  },
  {
   "cell_type": "code",
   "execution_count": 7,
   "id": "746e4819",
   "metadata": {},
   "outputs": [
    {
     "data": {
      "text/html": [
       "<div>\n",
       "<style scoped>\n",
       "    .dataframe tbody tr th:only-of-type {\n",
       "        vertical-align: middle;\n",
       "    }\n",
       "\n",
       "    .dataframe tbody tr th {\n",
       "        vertical-align: top;\n",
       "    }\n",
       "\n",
       "    .dataframe thead th {\n",
       "        text-align: right;\n",
       "    }\n",
       "</style>\n",
       "<table border=\"1\" class=\"dataframe\">\n",
       "  <thead>\n",
       "    <tr style=\"text-align: right;\">\n",
       "      <th></th>\n",
       "      <th>status_type</th>\n",
       "      <th>num_reactions</th>\n",
       "      <th>num_comments</th>\n",
       "      <th>num_shares</th>\n",
       "      <th>num_likes</th>\n",
       "      <th>num_loves</th>\n",
       "      <th>num_wows</th>\n",
       "      <th>num_hahas</th>\n",
       "      <th>num_sads</th>\n",
       "      <th>num_angrys</th>\n",
       "    </tr>\n",
       "  </thead>\n",
       "  <tbody>\n",
       "    <tr>\n",
       "      <th>0</th>\n",
       "      <td>False</td>\n",
       "      <td>False</td>\n",
       "      <td>False</td>\n",
       "      <td>False</td>\n",
       "      <td>False</td>\n",
       "      <td>False</td>\n",
       "      <td>False</td>\n",
       "      <td>False</td>\n",
       "      <td>False</td>\n",
       "      <td>False</td>\n",
       "    </tr>\n",
       "    <tr>\n",
       "      <th>1</th>\n",
       "      <td>False</td>\n",
       "      <td>False</td>\n",
       "      <td>False</td>\n",
       "      <td>False</td>\n",
       "      <td>False</td>\n",
       "      <td>False</td>\n",
       "      <td>False</td>\n",
       "      <td>False</td>\n",
       "      <td>False</td>\n",
       "      <td>False</td>\n",
       "    </tr>\n",
       "    <tr>\n",
       "      <th>2</th>\n",
       "      <td>False</td>\n",
       "      <td>False</td>\n",
       "      <td>False</td>\n",
       "      <td>False</td>\n",
       "      <td>False</td>\n",
       "      <td>False</td>\n",
       "      <td>False</td>\n",
       "      <td>False</td>\n",
       "      <td>False</td>\n",
       "      <td>False</td>\n",
       "    </tr>\n",
       "    <tr>\n",
       "      <th>3</th>\n",
       "      <td>False</td>\n",
       "      <td>False</td>\n",
       "      <td>False</td>\n",
       "      <td>False</td>\n",
       "      <td>False</td>\n",
       "      <td>False</td>\n",
       "      <td>False</td>\n",
       "      <td>False</td>\n",
       "      <td>False</td>\n",
       "      <td>False</td>\n",
       "    </tr>\n",
       "    <tr>\n",
       "      <th>4</th>\n",
       "      <td>False</td>\n",
       "      <td>False</td>\n",
       "      <td>False</td>\n",
       "      <td>False</td>\n",
       "      <td>False</td>\n",
       "      <td>False</td>\n",
       "      <td>False</td>\n",
       "      <td>False</td>\n",
       "      <td>False</td>\n",
       "      <td>False</td>\n",
       "    </tr>\n",
       "    <tr>\n",
       "      <th>...</th>\n",
       "      <td>...</td>\n",
       "      <td>...</td>\n",
       "      <td>...</td>\n",
       "      <td>...</td>\n",
       "      <td>...</td>\n",
       "      <td>...</td>\n",
       "      <td>...</td>\n",
       "      <td>...</td>\n",
       "      <td>...</td>\n",
       "      <td>...</td>\n",
       "    </tr>\n",
       "    <tr>\n",
       "      <th>7045</th>\n",
       "      <td>False</td>\n",
       "      <td>False</td>\n",
       "      <td>False</td>\n",
       "      <td>False</td>\n",
       "      <td>False</td>\n",
       "      <td>False</td>\n",
       "      <td>False</td>\n",
       "      <td>False</td>\n",
       "      <td>False</td>\n",
       "      <td>False</td>\n",
       "    </tr>\n",
       "    <tr>\n",
       "      <th>7046</th>\n",
       "      <td>False</td>\n",
       "      <td>False</td>\n",
       "      <td>False</td>\n",
       "      <td>False</td>\n",
       "      <td>False</td>\n",
       "      <td>False</td>\n",
       "      <td>False</td>\n",
       "      <td>False</td>\n",
       "      <td>False</td>\n",
       "      <td>False</td>\n",
       "    </tr>\n",
       "    <tr>\n",
       "      <th>7047</th>\n",
       "      <td>False</td>\n",
       "      <td>False</td>\n",
       "      <td>False</td>\n",
       "      <td>False</td>\n",
       "      <td>False</td>\n",
       "      <td>False</td>\n",
       "      <td>False</td>\n",
       "      <td>False</td>\n",
       "      <td>False</td>\n",
       "      <td>False</td>\n",
       "    </tr>\n",
       "    <tr>\n",
       "      <th>7048</th>\n",
       "      <td>False</td>\n",
       "      <td>False</td>\n",
       "      <td>False</td>\n",
       "      <td>False</td>\n",
       "      <td>False</td>\n",
       "      <td>False</td>\n",
       "      <td>False</td>\n",
       "      <td>False</td>\n",
       "      <td>False</td>\n",
       "      <td>False</td>\n",
       "    </tr>\n",
       "    <tr>\n",
       "      <th>7049</th>\n",
       "      <td>False</td>\n",
       "      <td>False</td>\n",
       "      <td>False</td>\n",
       "      <td>False</td>\n",
       "      <td>False</td>\n",
       "      <td>False</td>\n",
       "      <td>False</td>\n",
       "      <td>False</td>\n",
       "      <td>False</td>\n",
       "      <td>False</td>\n",
       "    </tr>\n",
       "  </tbody>\n",
       "</table>\n",
       "<p>7050 rows × 10 columns</p>\n",
       "</div>"
      ],
      "text/plain": [
       "      status_type  num_reactions  num_comments  num_shares  num_likes  \\\n",
       "0           False          False         False       False      False   \n",
       "1           False          False         False       False      False   \n",
       "2           False          False         False       False      False   \n",
       "3           False          False         False       False      False   \n",
       "4           False          False         False       False      False   \n",
       "...           ...            ...           ...         ...        ...   \n",
       "7045        False          False         False       False      False   \n",
       "7046        False          False         False       False      False   \n",
       "7047        False          False         False       False      False   \n",
       "7048        False          False         False       False      False   \n",
       "7049        False          False         False       False      False   \n",
       "\n",
       "      num_loves  num_wows  num_hahas  num_sads  num_angrys  \n",
       "0         False     False      False     False       False  \n",
       "1         False     False      False     False       False  \n",
       "2         False     False      False     False       False  \n",
       "3         False     False      False     False       False  \n",
       "4         False     False      False     False       False  \n",
       "...         ...       ...        ...       ...         ...  \n",
       "7045      False     False      False     False       False  \n",
       "7046      False     False      False     False       False  \n",
       "7047      False     False      False     False       False  \n",
       "7048      False     False      False     False       False  \n",
       "7049      False     False      False     False       False  \n",
       "\n",
       "[7050 rows x 10 columns]"
      ]
     },
     "execution_count": 7,
     "metadata": {},
     "output_type": "execute_result"
    }
   ],
   "source": [
    "df1.isnull()"
   ]
  },
  {
   "cell_type": "code",
   "execution_count": 8,
   "id": "eadb6e30",
   "metadata": {},
   "outputs": [
    {
     "name": "stdout",
     "output_type": "stream",
     "text": [
      "Hi ha elements duplicats\n"
     ]
    }
   ],
   "source": [
    "df1_clean = df1.drop_duplicates()\n",
    "if len(df1_clean) == len(df1):\n",
    "    print(\"No hi ha elements duplicats\")\n",
    "else:\n",
    "    print(\"Hi ha elements duplicats\")"
   ]
  },
  {
   "cell_type": "code",
   "execution_count": 9,
   "id": "ae5f8790",
   "metadata": {},
   "outputs": [
    {
     "data": {
      "text/html": [
       "<div>\n",
       "<style scoped>\n",
       "    .dataframe tbody tr th:only-of-type {\n",
       "        vertical-align: middle;\n",
       "    }\n",
       "\n",
       "    .dataframe tbody tr th {\n",
       "        vertical-align: top;\n",
       "    }\n",
       "\n",
       "    .dataframe thead th {\n",
       "        text-align: right;\n",
       "    }\n",
       "</style>\n",
       "<table border=\"1\" class=\"dataframe\">\n",
       "  <thead>\n",
       "    <tr style=\"text-align: right;\">\n",
       "      <th></th>\n",
       "      <th>num_reactions</th>\n",
       "      <th>num_comments</th>\n",
       "      <th>num_shares</th>\n",
       "      <th>num_likes</th>\n",
       "      <th>num_loves</th>\n",
       "      <th>num_wows</th>\n",
       "      <th>num_hahas</th>\n",
       "      <th>num_sads</th>\n",
       "      <th>num_angrys</th>\n",
       "      <th>index</th>\n",
       "    </tr>\n",
       "  </thead>\n",
       "  <tbody>\n",
       "    <tr>\n",
       "      <th>0</th>\n",
       "      <td>0.428405</td>\n",
       "      <td>0.187559</td>\n",
       "      <td>1.339263</td>\n",
       "      <td>0.287588</td>\n",
       "      <td>1.592691</td>\n",
       "      <td>0.120800</td>\n",
       "      <td>0.004418</td>\n",
       "      <td>0.385824</td>\n",
       "      <td>-0.190522</td>\n",
       "      <td>0</td>\n",
       "    </tr>\n",
       "    <tr>\n",
       "      <th>1</th>\n",
       "      <td>-0.311534</td>\n",
       "      <td>-0.302896</td>\n",
       "      <td>-0.367850</td>\n",
       "      <td>-0.277435</td>\n",
       "      <td>-0.384256</td>\n",
       "      <td>-0.170652</td>\n",
       "      <td>-0.209508</td>\n",
       "      <td>-0.186997</td>\n",
       "      <td>-0.190522</td>\n",
       "      <td>1</td>\n",
       "    </tr>\n",
       "    <tr>\n",
       "      <th>2</th>\n",
       "      <td>-0.161204</td>\n",
       "      <td>-0.076827</td>\n",
       "      <td>0.003545</td>\n",
       "      <td>-0.169239</td>\n",
       "      <td>0.067004</td>\n",
       "      <td>-0.073501</td>\n",
       "      <td>0.004418</td>\n",
       "      <td>-0.186997</td>\n",
       "      <td>-0.190522</td>\n",
       "      <td>2</td>\n",
       "    </tr>\n",
       "    <tr>\n",
       "      <th>3</th>\n",
       "      <td>-0.387676</td>\n",
       "      <td>-0.302896</td>\n",
       "      <td>-0.367850</td>\n",
       "      <td>-0.355576</td>\n",
       "      <td>-0.384256</td>\n",
       "      <td>-0.170652</td>\n",
       "      <td>-0.209508</td>\n",
       "      <td>-0.186997</td>\n",
       "      <td>-0.190522</td>\n",
       "      <td>3</td>\n",
       "    </tr>\n",
       "    <tr>\n",
       "      <th>4</th>\n",
       "      <td>-0.188536</td>\n",
       "      <td>-0.302896</td>\n",
       "      <td>-0.367850</td>\n",
       "      <td>-0.169239</td>\n",
       "      <td>-0.190859</td>\n",
       "      <td>-0.170652</td>\n",
       "      <td>-0.209508</td>\n",
       "      <td>-0.186997</td>\n",
       "      <td>-0.190522</td>\n",
       "      <td>4</td>\n",
       "    </tr>\n",
       "  </tbody>\n",
       "</table>\n",
       "</div>"
      ],
      "text/plain": [
       "   num_reactions  num_comments  num_shares  num_likes  num_loves  num_wows  \\\n",
       "0       0.428405      0.187559    1.339263   0.287588   1.592691  0.120800   \n",
       "1      -0.311534     -0.302896   -0.367850  -0.277435  -0.384256 -0.170652   \n",
       "2      -0.161204     -0.076827    0.003545  -0.169239   0.067004 -0.073501   \n",
       "3      -0.387676     -0.302896   -0.367850  -0.355576  -0.384256 -0.170652   \n",
       "4      -0.188536     -0.302896   -0.367850  -0.169239  -0.190859 -0.170652   \n",
       "\n",
       "   num_hahas  num_sads  num_angrys  index  \n",
       "0   0.004418  0.385824   -0.190522      0  \n",
       "1  -0.209508 -0.186997   -0.190522      1  \n",
       "2   0.004418 -0.186997   -0.190522      2  \n",
       "3  -0.209508 -0.186997   -0.190522      3  \n",
       "4  -0.209508 -0.186997   -0.190522      4  "
      ]
     },
     "execution_count": 9,
     "metadata": {},
     "output_type": "execute_result"
    }
   ],
   "source": [
    "# normalizo los datos eliminando los duplicados. \n",
    "# normalizing data deliting duplicate elements.\n",
    "X = np.array(df1_clean[['num_reactions','num_comments','num_shares','num_likes','num_loves','num_wows','num_hahas','num_sads','num_angrys']])\n",
    "X_standard = StandardScaler().fit_transform(X)\n",
    "df_X = pd.DataFrame(X_standard, columns = ['num_reactions','num_comments','num_shares','num_likes','num_loves','num_wows','num_hahas','num_sads','num_angrys'])\n",
    "df_X['index'] = df_X.index\n",
    "df_X.head()"
   ]
  },
  {
   "cell_type": "code",
   "execution_count": 10,
   "id": "11d73842",
   "metadata": {},
   "outputs": [
    {
     "data": {
      "text/plain": [
       "(4987, 10)"
      ]
     },
     "execution_count": 10,
     "metadata": {},
     "output_type": "execute_result"
    }
   ],
   "source": [
    "df_X.shape"
   ]
  },
  {
   "cell_type": "code",
   "execution_count": 11,
   "id": "d9c2d85e",
   "metadata": {
    "scrolled": true
   },
   "outputs": [
    {
     "data": {
      "text/html": [
       "<div>\n",
       "<style scoped>\n",
       "    .dataframe tbody tr th:only-of-type {\n",
       "        vertical-align: middle;\n",
       "    }\n",
       "\n",
       "    .dataframe tbody tr th {\n",
       "        vertical-align: top;\n",
       "    }\n",
       "\n",
       "    .dataframe thead th {\n",
       "        text-align: right;\n",
       "    }\n",
       "</style>\n",
       "<table border=\"1\" class=\"dataframe\">\n",
       "  <thead>\n",
       "    <tr style=\"text-align: right;\">\n",
       "      <th></th>\n",
       "      <th>link</th>\n",
       "      <th>photo</th>\n",
       "      <th>status</th>\n",
       "      <th>video</th>\n",
       "      <th>index</th>\n",
       "    </tr>\n",
       "  </thead>\n",
       "  <tbody>\n",
       "    <tr>\n",
       "      <th>0</th>\n",
       "      <td>0</td>\n",
       "      <td>0</td>\n",
       "      <td>0</td>\n",
       "      <td>1</td>\n",
       "      <td>0</td>\n",
       "    </tr>\n",
       "    <tr>\n",
       "      <th>1</th>\n",
       "      <td>0</td>\n",
       "      <td>1</td>\n",
       "      <td>0</td>\n",
       "      <td>0</td>\n",
       "      <td>1</td>\n",
       "    </tr>\n",
       "    <tr>\n",
       "      <th>2</th>\n",
       "      <td>0</td>\n",
       "      <td>0</td>\n",
       "      <td>0</td>\n",
       "      <td>1</td>\n",
       "      <td>2</td>\n",
       "    </tr>\n",
       "    <tr>\n",
       "      <th>3</th>\n",
       "      <td>0</td>\n",
       "      <td>1</td>\n",
       "      <td>0</td>\n",
       "      <td>0</td>\n",
       "      <td>3</td>\n",
       "    </tr>\n",
       "    <tr>\n",
       "      <th>4</th>\n",
       "      <td>0</td>\n",
       "      <td>1</td>\n",
       "      <td>0</td>\n",
       "      <td>0</td>\n",
       "      <td>4</td>\n",
       "    </tr>\n",
       "  </tbody>\n",
       "</table>\n",
       "</div>"
      ],
      "text/plain": [
       "   link  photo  status  video  index\n",
       "0     0      0       0      1      0\n",
       "1     0      1       0      0      1\n",
       "2     0      0       0      1      2\n",
       "3     0      1       0      0      3\n",
       "4     0      1       0      0      4"
      ]
     },
     "execution_count": 11,
     "metadata": {},
     "output_type": "execute_result"
    }
   ],
   "source": [
    "# genero las columnas dummies\n",
    "# generating dummie columns\n",
    "dummy = pd.get_dummies(df1_clean['status_type'])\n",
    "dummy_df = pd.DataFrame(dummy, columns = ['link','photo','status','video'])\n",
    "dummy_df['index'] = dummy_df.index\n",
    "dummy_df.head()"
   ]
  },
  {
   "cell_type": "code",
   "execution_count": 12,
   "id": "47b369b6",
   "metadata": {},
   "outputs": [
    {
     "data": {
      "text/plain": [
       "(4987, 5)"
      ]
     },
     "execution_count": 12,
     "metadata": {},
     "output_type": "execute_result"
    }
   ],
   "source": [
    "dummy_df.shape"
   ]
  },
  {
   "cell_type": "code",
   "execution_count": 13,
   "id": "7ad02140",
   "metadata": {},
   "outputs": [
    {
     "data": {
      "text/html": [
       "<div>\n",
       "<style scoped>\n",
       "    .dataframe tbody tr th:only-of-type {\n",
       "        vertical-align: middle;\n",
       "    }\n",
       "\n",
       "    .dataframe tbody tr th {\n",
       "        vertical-align: top;\n",
       "    }\n",
       "\n",
       "    .dataframe thead th {\n",
       "        text-align: right;\n",
       "    }\n",
       "</style>\n",
       "<table border=\"1\" class=\"dataframe\">\n",
       "  <thead>\n",
       "    <tr style=\"text-align: right;\">\n",
       "      <th></th>\n",
       "      <th>num_reactions</th>\n",
       "      <th>num_comments</th>\n",
       "      <th>num_shares</th>\n",
       "      <th>num_likes</th>\n",
       "      <th>num_loves</th>\n",
       "      <th>num_wows</th>\n",
       "      <th>num_hahas</th>\n",
       "      <th>num_sads</th>\n",
       "      <th>num_angrys</th>\n",
       "      <th>link</th>\n",
       "      <th>photo</th>\n",
       "      <th>status</th>\n",
       "      <th>video</th>\n",
       "    </tr>\n",
       "  </thead>\n",
       "  <tbody>\n",
       "    <tr>\n",
       "      <th>0</th>\n",
       "      <td>0.428405</td>\n",
       "      <td>0.187559</td>\n",
       "      <td>1.339263</td>\n",
       "      <td>0.287588</td>\n",
       "      <td>1.592691</td>\n",
       "      <td>0.120800</td>\n",
       "      <td>0.004418</td>\n",
       "      <td>0.385824</td>\n",
       "      <td>-0.190522</td>\n",
       "      <td>0</td>\n",
       "      <td>0</td>\n",
       "      <td>0</td>\n",
       "      <td>1</td>\n",
       "    </tr>\n",
       "    <tr>\n",
       "      <th>1</th>\n",
       "      <td>-0.311534</td>\n",
       "      <td>-0.302896</td>\n",
       "      <td>-0.367850</td>\n",
       "      <td>-0.277435</td>\n",
       "      <td>-0.384256</td>\n",
       "      <td>-0.170652</td>\n",
       "      <td>-0.209508</td>\n",
       "      <td>-0.186997</td>\n",
       "      <td>-0.190522</td>\n",
       "      <td>0</td>\n",
       "      <td>1</td>\n",
       "      <td>0</td>\n",
       "      <td>0</td>\n",
       "    </tr>\n",
       "    <tr>\n",
       "      <th>2</th>\n",
       "      <td>-0.161204</td>\n",
       "      <td>-0.076827</td>\n",
       "      <td>0.003545</td>\n",
       "      <td>-0.169239</td>\n",
       "      <td>0.067004</td>\n",
       "      <td>-0.073501</td>\n",
       "      <td>0.004418</td>\n",
       "      <td>-0.186997</td>\n",
       "      <td>-0.190522</td>\n",
       "      <td>0</td>\n",
       "      <td>0</td>\n",
       "      <td>0</td>\n",
       "      <td>1</td>\n",
       "    </tr>\n",
       "    <tr>\n",
       "      <th>3</th>\n",
       "      <td>-0.387676</td>\n",
       "      <td>-0.302896</td>\n",
       "      <td>-0.367850</td>\n",
       "      <td>-0.355576</td>\n",
       "      <td>-0.384256</td>\n",
       "      <td>-0.170652</td>\n",
       "      <td>-0.209508</td>\n",
       "      <td>-0.186997</td>\n",
       "      <td>-0.190522</td>\n",
       "      <td>0</td>\n",
       "      <td>1</td>\n",
       "      <td>0</td>\n",
       "      <td>0</td>\n",
       "    </tr>\n",
       "    <tr>\n",
       "      <th>4</th>\n",
       "      <td>-0.188536</td>\n",
       "      <td>-0.302896</td>\n",
       "      <td>-0.367850</td>\n",
       "      <td>-0.169239</td>\n",
       "      <td>-0.190859</td>\n",
       "      <td>-0.170652</td>\n",
       "      <td>-0.209508</td>\n",
       "      <td>-0.186997</td>\n",
       "      <td>-0.190522</td>\n",
       "      <td>0</td>\n",
       "      <td>1</td>\n",
       "      <td>0</td>\n",
       "      <td>0</td>\n",
       "    </tr>\n",
       "  </tbody>\n",
       "</table>\n",
       "</div>"
      ],
      "text/plain": [
       "   num_reactions  num_comments  num_shares  num_likes  num_loves  num_wows  \\\n",
       "0       0.428405      0.187559    1.339263   0.287588   1.592691  0.120800   \n",
       "1      -0.311534     -0.302896   -0.367850  -0.277435  -0.384256 -0.170652   \n",
       "2      -0.161204     -0.076827    0.003545  -0.169239   0.067004 -0.073501   \n",
       "3      -0.387676     -0.302896   -0.367850  -0.355576  -0.384256 -0.170652   \n",
       "4      -0.188536     -0.302896   -0.367850  -0.169239  -0.190859 -0.170652   \n",
       "\n",
       "   num_hahas  num_sads  num_angrys  link  photo  status  video  \n",
       "0   0.004418  0.385824   -0.190522     0      0       0      1  \n",
       "1  -0.209508 -0.186997   -0.190522     0      1       0      0  \n",
       "2   0.004418 -0.186997   -0.190522     0      0       0      1  \n",
       "3  -0.209508 -0.186997   -0.190522     0      1       0      0  \n",
       "4  -0.209508 -0.186997   -0.190522     0      1       0      0  "
      ]
     },
     "execution_count": 13,
     "metadata": {},
     "output_type": "execute_result"
    }
   ],
   "source": [
    "# añado las columnas dummies a las variables normalizadas.\n",
    "# adding dummy columns to the normalized variables.\n",
    "df2 = df_X.merge(dummy_df, on = 'index', how = 'inner')\n",
    "df3 = df2.drop(['index'], axis = 1)\n",
    "df3.head()"
   ]
  },
  {
   "cell_type": "code",
   "execution_count": 14,
   "id": "96c3c66d",
   "metadata": {},
   "outputs": [
    {
     "data": {
      "text/plain": [
       "(3612, 13)"
      ]
     },
     "execution_count": 14,
     "metadata": {},
     "output_type": "execute_result"
    }
   ],
   "source": [
    "df3.shape"
   ]
  },
  {
   "cell_type": "markdown",
   "id": "b24440e7",
   "metadata": {},
   "source": [
    "# K-Means"
   ]
  },
  {
   "cell_type": "code",
   "execution_count": 15,
   "id": "711a6c0e",
   "metadata": {},
   "outputs": [],
   "source": [
    "# para poder aplicar el algoritmo k-means hemos de saber cuantos clusters tenemos que utilizar,\n",
    "# realizo la curva de elbow\n",
    "# to be able to apply the k-means algorithm we need to know how many clusters we have to use,\n",
    "# doing elbow bend\n",
    "kmeans_kwargs = {\"init\":\"k-means++\",\n",
    "                \"n_init\" : 10,\n",
    "                \"max_iter\" : 400,\n",
    "                \"random_state\" : 42,}\n",
    "# una lista de los see valores por cada k\n",
    "# a list of SEE values for each k\n",
    "sse = []\n",
    "for k in range(1,11):\n",
    "    kmeans = KMeans(n_clusters = k, **kmeans_kwargs)\n",
    "    kmeans.fit(df3)\n",
    "    sse.append(kmeans.inertia_)"
   ]
  },
  {
   "cell_type": "code",
   "execution_count": 16,
   "id": "324aef81",
   "metadata": {
    "scrolled": true
   },
   "outputs": [
    {
     "data": {
      "image/png": "[encoded data removed]",
      "text/plain": [
       "<Figure size 432x288 with 1 Axes>"
      ]
     },
     "metadata": {},
     "output_type": "display_data"
    }
   ],
   "source": [
    "plt.style.use(\"ggplot\")\n",
    "plt.plot(range(1,11), sse)\n",
    "plt.xticks(range(1,11))\n",
    "plt.xlabel(\"number of clusters\")\n",
    "plt.ylabel(\"SSE\")\n",
    "plt.show()"
   ]
  },
  {
   "cell_type": "code",
   "execution_count": 17,
   "id": "8b88a6c7",
   "metadata": {},
   "outputs": [
    {
     "data": {
      "text/plain": [
       "3"
      ]
     },
     "execution_count": 17,
     "metadata": {},
     "output_type": "execute_result"
    }
   ],
   "source": [
    "# voy a utilizar kneed.\n",
    "# I'm going to use kneed.\n",
    "kl = KneeLocator(range(1,11), sse, curve = \"convex\", direction = \"decreasing\")\n",
    "kl.elbow"
   ]
  },
  {
   "cell_type": "markdown",
   "id": "f292b713",
   "metadata": {},
   "source": [
    "**el codo se encuentra en el punto 3, ese punto es una compensación razonable entre el error y el número clústeres.**\n",
    "\n",
    "the elbow is at point 3, that point is a reasonable compensation between the error and the number of clusters."
   ]
  },
  {
   "cell_type": "code",
   "execution_count": 18,
   "id": "e738a6b9",
   "metadata": {},
   "outputs": [
    {
     "data": {
      "text/plain": [
       "Text(0, 0.5, 'number of cumulative explained variance')"
      ]
     },
     "execution_count": 18,
     "metadata": {},
     "output_type": "execute_result"
    },
    {
     "data": {
      "image/png": "[encoded data removed]",
      "text/plain": [
       "<Figure size 432x288 with 1 Axes>"
      ]
     },
     "metadata": {},
     "output_type": "display_data"
    }
   ],
   "source": [
    "pca = PCA().fit(df3)\n",
    "plt.plot(np.cumsum(pca.explained_variance_ratio_))\n",
    "plt.xlabel('number of components')\n",
    "plt.ylabel('number of cumulative explained variance')"
   ]
  },
  {
   "cell_type": "markdown",
   "id": "a78c5524",
   "metadata": {},
   "source": [
    "## aplicando el método means a la base de datos / applying the means method to the database"
   ]
  },
  {
   "cell_type": "code",
   "execution_count": 19,
   "id": "d0c90bfd",
   "metadata": {},
   "outputs": [
    {
     "data": {
      "text/plain": [
       "KMeans(n_clusters=3)"
      ]
     },
     "execution_count": 19,
     "metadata": {},
     "output_type": "execute_result"
    }
   ],
   "source": [
    "clustering = KMeans(n_clusters = 3, max_iter = 300) # creamos el modelo | creating the model\n",
    "clustering.fit(df3)"
   ]
  },
  {
   "cell_type": "markdown",
   "id": "b4ca6162",
   "metadata": {},
   "source": [
    "## agregando la clasificación al modelo original / adding the classification to the original model"
   ]
  },
  {
   "cell_type": "code",
   "execution_count": 20,
   "id": "18c44d3b",
   "metadata": {},
   "outputs": [
    {
     "data": {
      "text/html": [
       "<div>\n",
       "<style scoped>\n",
       "    .dataframe tbody tr th:only-of-type {\n",
       "        vertical-align: middle;\n",
       "    }\n",
       "\n",
       "    .dataframe tbody tr th {\n",
       "        vertical-align: top;\n",
       "    }\n",
       "\n",
       "    .dataframe thead th {\n",
       "        text-align: right;\n",
       "    }\n",
       "</style>\n",
       "<table border=\"1\" class=\"dataframe\">\n",
       "  <thead>\n",
       "    <tr style=\"text-align: right;\">\n",
       "      <th></th>\n",
       "      <th>num_reactions</th>\n",
       "      <th>num_comments</th>\n",
       "      <th>num_shares</th>\n",
       "      <th>num_likes</th>\n",
       "      <th>num_loves</th>\n",
       "      <th>num_wows</th>\n",
       "      <th>num_hahas</th>\n",
       "      <th>num_sads</th>\n",
       "      <th>num_angrys</th>\n",
       "      <th>link</th>\n",
       "      <th>photo</th>\n",
       "      <th>status</th>\n",
       "      <th>video</th>\n",
       "      <th>KMeans_Clusters</th>\n",
       "    </tr>\n",
       "  </thead>\n",
       "  <tbody>\n",
       "    <tr>\n",
       "      <th>0</th>\n",
       "      <td>0.428405</td>\n",
       "      <td>0.187559</td>\n",
       "      <td>1.339263</td>\n",
       "      <td>0.287588</td>\n",
       "      <td>1.592691</td>\n",
       "      <td>0.120800</td>\n",
       "      <td>0.004418</td>\n",
       "      <td>0.385824</td>\n",
       "      <td>-0.190522</td>\n",
       "      <td>0</td>\n",
       "      <td>0</td>\n",
       "      <td>0</td>\n",
       "      <td>1</td>\n",
       "      <td>0</td>\n",
       "    </tr>\n",
       "    <tr>\n",
       "      <th>1</th>\n",
       "      <td>-0.311534</td>\n",
       "      <td>-0.302896</td>\n",
       "      <td>-0.367850</td>\n",
       "      <td>-0.277435</td>\n",
       "      <td>-0.384256</td>\n",
       "      <td>-0.170652</td>\n",
       "      <td>-0.209508</td>\n",
       "      <td>-0.186997</td>\n",
       "      <td>-0.190522</td>\n",
       "      <td>0</td>\n",
       "      <td>1</td>\n",
       "      <td>0</td>\n",
       "      <td>0</td>\n",
       "      <td>0</td>\n",
       "    </tr>\n",
       "    <tr>\n",
       "      <th>2</th>\n",
       "      <td>-0.161204</td>\n",
       "      <td>-0.076827</td>\n",
       "      <td>0.003545</td>\n",
       "      <td>-0.169239</td>\n",
       "      <td>0.067004</td>\n",
       "      <td>-0.073501</td>\n",
       "      <td>0.004418</td>\n",
       "      <td>-0.186997</td>\n",
       "      <td>-0.190522</td>\n",
       "      <td>0</td>\n",
       "      <td>0</td>\n",
       "      <td>0</td>\n",
       "      <td>1</td>\n",
       "      <td>0</td>\n",
       "    </tr>\n",
       "    <tr>\n",
       "      <th>3</th>\n",
       "      <td>-0.387676</td>\n",
       "      <td>-0.302896</td>\n",
       "      <td>-0.367850</td>\n",
       "      <td>-0.355576</td>\n",
       "      <td>-0.384256</td>\n",
       "      <td>-0.170652</td>\n",
       "      <td>-0.209508</td>\n",
       "      <td>-0.186997</td>\n",
       "      <td>-0.190522</td>\n",
       "      <td>0</td>\n",
       "      <td>1</td>\n",
       "      <td>0</td>\n",
       "      <td>0</td>\n",
       "      <td>0</td>\n",
       "    </tr>\n",
       "    <tr>\n",
       "      <th>4</th>\n",
       "      <td>-0.188536</td>\n",
       "      <td>-0.302896</td>\n",
       "      <td>-0.367850</td>\n",
       "      <td>-0.169239</td>\n",
       "      <td>-0.190859</td>\n",
       "      <td>-0.170652</td>\n",
       "      <td>-0.209508</td>\n",
       "      <td>-0.186997</td>\n",
       "      <td>-0.190522</td>\n",
       "      <td>0</td>\n",
       "      <td>1</td>\n",
       "      <td>0</td>\n",
       "      <td>0</td>\n",
       "      <td>0</td>\n",
       "    </tr>\n",
       "  </tbody>\n",
       "</table>\n",
       "</div>"
      ],
      "text/plain": [
       "   num_reactions  num_comments  num_shares  num_likes  num_loves  num_wows  \\\n",
       "0       0.428405      0.187559    1.339263   0.287588   1.592691  0.120800   \n",
       "1      -0.311534     -0.302896   -0.367850  -0.277435  -0.384256 -0.170652   \n",
       "2      -0.161204     -0.076827    0.003545  -0.169239   0.067004 -0.073501   \n",
       "3      -0.387676     -0.302896   -0.367850  -0.355576  -0.384256 -0.170652   \n",
       "4      -0.188536     -0.302896   -0.367850  -0.169239  -0.190859 -0.170652   \n",
       "\n",
       "   num_hahas  num_sads  num_angrys  link  photo  status  video  \\\n",
       "0   0.004418  0.385824   -0.190522     0      0       0      1   \n",
       "1  -0.209508 -0.186997   -0.190522     0      1       0      0   \n",
       "2   0.004418 -0.186997   -0.190522     0      0       0      1   \n",
       "3  -0.209508 -0.186997   -0.190522     0      1       0      0   \n",
       "4  -0.209508 -0.186997   -0.190522     0      1       0      0   \n",
       "\n",
       "   KMeans_Clusters  \n",
       "0                0  \n",
       "1                0  \n",
       "2                0  \n",
       "3                0  \n",
       "4                0  "
      ]
     },
     "execution_count": 20,
     "metadata": {},
     "output_type": "execute_result"
    }
   ],
   "source": [
    "df3['KMeans_Clusters'] = clustering.labels_\n",
    "df3.head()"
   ]
  },
  {
   "cell_type": "markdown",
   "id": "b2312947",
   "metadata": {},
   "source": [
    "## visualizando los clusters que se han formado / visualizing the formed clusters"
   ]
  },
  {
   "cell_type": "markdown",
   "id": "a5fecb6b",
   "metadata": {},
   "source": [
    "**Para poder realizar la PCA primero tenemos que saber cuantos componentes tenemos que utilizar, vemos que para explicar el 100% de la varianza son necesarios 8 elementos, como los 8 elementos no se pueden representar gráficamente escogeré 2.**\n",
    "\n",
    "To be able to perform the PCA first we have to know how many components we have to use, we see that to explain 100% of the variance 8 elements are necessary, as the 8 elements cannot be represented graphically I will choose 2."
   ]
  },
  {
   "cell_type": "code",
   "execution_count": 21,
   "id": "9d8063b5",
   "metadata": {},
   "outputs": [
    {
     "data": {
      "text/html": [
       "<div>\n",
       "<style scoped>\n",
       "    .dataframe tbody tr th:only-of-type {\n",
       "        vertical-align: middle;\n",
       "    }\n",
       "\n",
       "    .dataframe tbody tr th {\n",
       "        vertical-align: top;\n",
       "    }\n",
       "\n",
       "    .dataframe thead th {\n",
       "        text-align: right;\n",
       "    }\n",
       "</style>\n",
       "<table border=\"1\" class=\"dataframe\">\n",
       "  <thead>\n",
       "    <tr style=\"text-align: right;\">\n",
       "      <th></th>\n",
       "      <th>Componente_1</th>\n",
       "      <th>Componente_2</th>\n",
       "      <th>KMeans_Clusters</th>\n",
       "    </tr>\n",
       "  </thead>\n",
       "  <tbody>\n",
       "    <tr>\n",
       "      <th>0</th>\n",
       "      <td>1.543887</td>\n",
       "      <td>0.956188</td>\n",
       "      <td>0</td>\n",
       "    </tr>\n",
       "    <tr>\n",
       "      <th>1</th>\n",
       "      <td>-0.805658</td>\n",
       "      <td>-0.005476</td>\n",
       "      <td>0</td>\n",
       "    </tr>\n",
       "    <tr>\n",
       "      <th>2</th>\n",
       "      <td>-0.211704</td>\n",
       "      <td>0.300798</td>\n",
       "      <td>0</td>\n",
       "    </tr>\n",
       "    <tr>\n",
       "      <th>3</th>\n",
       "      <td>-0.877392</td>\n",
       "      <td>0.073898</td>\n",
       "      <td>0</td>\n",
       "    </tr>\n",
       "    <tr>\n",
       "      <th>4</th>\n",
       "      <td>-0.624311</td>\n",
       "      <td>-0.058306</td>\n",
       "      <td>0</td>\n",
       "    </tr>\n",
       "  </tbody>\n",
       "</table>\n",
       "</div>"
      ],
      "text/plain": [
       "   Componente_1  Componente_2  KMeans_Clusters\n",
       "0      1.543887      0.956188                0\n",
       "1     -0.805658     -0.005476                0\n",
       "2     -0.211704      0.300798                0\n",
       "3     -0.877392      0.073898                0\n",
       "4     -0.624311     -0.058306                0"
      ]
     },
     "execution_count": 21,
     "metadata": {},
     "output_type": "execute_result"
    }
   ],
   "source": [
    "pca = PCA(n_components = 2)\n",
    "principalComponents = pca.fit_transform(df3)\n",
    "principalDf = pd.DataFrame(data = principalComponents, columns = ['Componente_1','Componente_2'])\n",
    "pca_nombres_data = pd.concat([principalDf, df3['KMeans_Clusters']], axis = 1)\n",
    "pca_nombres_data.head()"
   ]
  },
  {
   "cell_type": "code",
   "execution_count": 22,
   "id": "a92e1f54",
   "metadata": {},
   "outputs": [
    {
     "data": {
      "image/png": "[encoded data removed]",
      "text/plain": [
       "<Figure size 432x432 with 1 Axes>"
      ]
     },
     "metadata": {},
     "output_type": "display_data"
    }
   ],
   "source": [
    "# vamos a representar gráficamente los puntos y los clusteres que se han formado.\n",
    "# let's graphically represent the points and the clusters that have formed.\n",
    "fig = plt.figure(figsize = (6,6))\n",
    "ax = fig.add_subplot(1,1,1)\n",
    "ax.set_xlabel('Componente 1', fontsize = 15)\n",
    "ax.set_ylabel('Componente 2', fontsize = 15)\n",
    "ax.set_title('Componentes principales', fontsize = 20)\n",
    "\n",
    "color_theme = np.array(['blue','green','red'])\n",
    "ax.scatter(x = pca_nombres_data.Componente_1, \n",
    "           y = pca_nombres_data.Componente_2,\n",
    "           c = color_theme[pca_nombres_data.KMeans_Clusters], s = 50)\n",
    "plt.show()"
   ]
  },
  {
   "cell_type": "code",
   "execution_count": 23,
   "id": "a545a368",
   "metadata": {},
   "outputs": [
    {
     "data": {
      "text/plain": [
       "array([0.35392394, 0.24155601])"
      ]
     },
     "execution_count": 23,
     "metadata": {},
     "output_type": "execute_result"
    }
   ],
   "source": [
    "pca.explained_variance_ratio_"
   ]
  },
  {
   "cell_type": "code",
   "execution_count": 24,
   "id": "4111f66b",
   "metadata": {},
   "outputs": [],
   "source": [
    "# realizo el coeficiente de silhouette.\n",
    "# performing the silhouette coefficient.\n",
    "silhouette_coefficients = []\n",
    "for k in range (2,11):\n",
    "    kmeans = KMeans(n_clusters = k, **kmeans_kwargs)\n",
    "    kmeans.fit(pca_nombres_data)\n",
    "    score = silhouette_score(pca_nombres_data, kmeans.labels_)\n",
    "    silhouette_coefficients.append(score)"
   ]
  },
  {
   "cell_type": "code",
   "execution_count": 25,
   "id": "bffaa27b",
   "metadata": {},
   "outputs": [
    {
     "data": {
      "image/png": "[encoded data removed]",
      "text/plain": [
       "<Figure size 432x288 with 1 Axes>"
      ]
     },
     "metadata": {},
     "output_type": "display_data"
    }
   ],
   "source": [
    "plt.style.use(\"fivethirtyeight\")\n",
    "plt.plot(range(2,11), silhouette_coefficients)\n",
    "plt.xticks(range(2,11))\n",
    "plt.xlabel(\"Number of clusters\")\n",
    "plt.ylabel(\"Silhouette coefficient\")\n",
    "plt.show()"
   ]
  },
  {
   "cell_type": "markdown",
   "id": "91f66994",
   "metadata": {},
   "source": [
    "**Podemos observar como el número 3 es el punto que obtiene un valor mayor en el coeficiente.**\n",
    "\n",
    "We can see how number 3 is the point that obtains a higher value in the coefficient."
   ]
  },
  {
   "cell_type": "code",
   "execution_count": 26,
   "id": "8ca63379",
   "metadata": {},
   "outputs": [],
   "source": [
    "# definimos el modelo k-means.\n",
    "# defining k-mean's model.\n",
    "kmeans = KMeans(init = \"random\",\n",
    "               n_clusters = 3,\n",
    "               n_init = 10,\n",
    "               max_iter = 300,\n",
    "               random_state = 42)"
   ]
  },
  {
   "cell_type": "code",
   "execution_count": 27,
   "id": "0cde8d05",
   "metadata": {},
   "outputs": [
    {
     "data": {
      "text/plain": [
       "16852.930251963364"
      ]
     },
     "execution_count": 27,
     "metadata": {},
     "output_type": "execute_result"
    }
   ],
   "source": [
    "clustering.inertia_"
   ]
  },
  {
   "cell_type": "code",
   "execution_count": 28,
   "id": "016c41c2",
   "metadata": {},
   "outputs": [
    {
     "data": {
      "text/plain": [
       "9"
      ]
     },
     "execution_count": 28,
     "metadata": {},
     "output_type": "execute_result"
    }
   ],
   "source": [
    "# número de iteraciones del modelo.\n",
    "# number of iterations of the model.\n",
    "clustering.n_iter_"
   ]
  },
  {
   "cell_type": "code",
   "execution_count": 29,
   "id": "28fb3961",
   "metadata": {},
   "outputs": [
    {
     "data": {
      "text/plain": [
       "array([[-0.26640895, -0.17741551, -0.21610273, -0.25314255, -0.18022708,\n",
       "        -0.09679616, -0.11626677, -0.05436059, -0.11557486,  0.01045296,\n",
       "         0.61007285,  0.05543237,  0.32404181],\n",
       "       [ 2.98094512, -0.2460833 , -0.29203669,  3.09621489, -0.35701043,\n",
       "        -0.04565716, -0.19551288, -0.1745052 , -0.18284433,  0.03738318,\n",
       "         0.57009346,  0.17757009,  0.21495327],\n",
       "       [ 1.22880979,  3.12916509,  3.2303715 ,  0.8996802 ,  3.22598158,\n",
       "         1.69333495,  1.98722913,  1.27925346,  1.60281087,  0.02238806,\n",
       "         0.57462687,  0.05223881,  0.35074627]])"
      ]
     },
     "execution_count": 29,
     "metadata": {},
     "output_type": "execute_result"
    }
   ],
   "source": [
    "# obtenemos los centroides de los clusteres.\n",
    "# getting the centroids of the clusters.\n",
    "clustering.cluster_centers_"
   ]
  },
  {
   "cell_type": "markdown",
   "id": "9fad4d01",
   "metadata": {},
   "source": [
    "## Clasificando los diferentes registros utilizando el algoritmo de clustering jerárquico / Classifying the different records using the hierarchical clustering algorithm"
   ]
  },
  {
   "cell_type": "code",
   "execution_count": 30,
   "id": "c886d125",
   "metadata": {},
   "outputs": [
    {
     "data": {
      "image/png": "[encoded data removed]",
      "text/plain": [
       "<Figure size 720x504 with 1 Axes>"
      ]
     },
     "metadata": {},
     "output_type": "display_data"
    }
   ],
   "source": [
    "plt.figure(figsize=(10,7))\n",
    "dendogram = sch.dendrogram(sch.linkage(df3, method = 'ward'))"
   ]
  },
  {
   "cell_type": "markdown",
   "id": "5bb4d4bd",
   "metadata": {},
   "source": [
    "**Creo una Clustering Agglomerative usando la distancia euclidiana como medida de distancia para calcular la proximidad de los clusteres.**\n",
    "\n",
    "I create an Agglomerative Clustering using the Euclidean distance as a measure of distance to calculate the proximity of the clusters.\n"
   ]
  },
  {
   "cell_type": "code",
   "execution_count": 32,
   "id": "a723b747",
   "metadata": {},
   "outputs": [
    {
     "data": {
      "text/plain": [
       "array([1, 1, 1, ..., 1, 1, 1], dtype=int64)"
      ]
     },
     "execution_count": 32,
     "metadata": {},
     "output_type": "execute_result"
    }
   ],
   "source": [
    "clusteringjerarquic = AgglomerativeClustering(n_clusters = 3, affinity = 'euclidean',\n",
    "                               linkage = 'ward')\n",
    "clusteringjerarquic.fit(df3)\n",
    "clustering_jerarquic_labels = clusteringjerarquic.labels_\n",
    "clustering_jerarquic_labels"
   ]
  },
  {
   "cell_type": "markdown",
   "id": "0cd84c5c",
   "metadata": {},
   "source": [
    "## Calculando el rendimiento del clustering mediante silhouette / Calculating the performance of clustering by means of silhouette"
   ]
  },
  {
   "cell_type": "code",
   "execution_count": 33,
   "id": "226a7d02",
   "metadata": {},
   "outputs": [
    {
     "name": "stdout",
     "output_type": "stream",
     "text": [
      "kmeans: 0.64\n"
     ]
    }
   ],
   "source": [
    "kmeans_silhouette = silhouette_score(df3, clustering.labels_).round(2)\n",
    "print('kmeans:', kmeans_silhouette)"
   ]
  },
  {
   "cell_type": "code",
   "execution_count": 34,
   "id": "8fa8418a",
   "metadata": {},
   "outputs": [
    {
     "name": "stdout",
     "output_type": "stream",
     "text": [
      "clustering jerarquic 0.63\n"
     ]
    }
   ],
   "source": [
    "jerarquic_silhouette = silhouette_score(df3, clustering_jerarquic_labels).round(2)\n",
    "print('clustering jerarquic', jerarquic_silhouette)"
   ]
  }
 ],
 "metadata": {
  "kernelspec": {
   "display_name": "Python 3 (ipykernel)",
   "language": "python",
   "name": "python3"
  },
  "language_info": {
   "codemirror_mode": {
    "name": "ipython",
    "version": 3
   },
   "file_extension": ".py",
   "mimetype": "text/x-python",
   "name": "python",
   "nbconvert_exporter": "python",
   "pygments_lexer": "ipython3",
   "version": "3.9.12"
  }
 },
 "nbformat": 4,
 "nbformat_minor": 5
}
